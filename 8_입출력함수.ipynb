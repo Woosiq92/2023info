{
 "cells": [
  {
   "cell_type": "markdown",
   "metadata": {},
   "source": [
    "# 8. 입출력 함수 ( 표준, 파일 )"
   ]
  },
  {
   "cell_type": "markdown",
   "metadata": {},
   "source": [
    "## 1. 표준 입출력 \n"
   ]
  },
  {
   "cell_type": "markdown",
   "metadata": {},
   "source": [
    "1) 표준 입력 : input () \n",
    " - 입력 받은 값은 문자열로 저장  "
   ]
  },
  {
   "cell_type": "code",
   "execution_count": 28,
   "metadata": {
    "scrolled": false
   },
   "outputs": [
    {
     "name": "stdout",
     "output_type": "stream",
     "text": [
      "80\n",
      "80\n",
      "<class 'str'>\n"
     ]
    }
   ],
   "source": [
    "n = input() \n",
    "print(n)\n",
    "print(type(n))"
   ]
  },
  {
   "cell_type": "markdown",
   "metadata": {},
   "source": [
    "2. 표준 출력 : print() "
   ]
  },
  {
   "cell_type": "code",
   "execution_count": 3,
   "metadata": {},
   "outputs": [
    {
     "name": "stdout",
     "output_type": "stream",
     "text": [
      "1 * 1 = 1\n",
      "2 * 2 = 4\n",
      "3 * 3 = 9\n",
      "4 * 4 = 16\n",
      "5 * 5 = 25\n"
     ]
    }
   ],
   "source": [
    "for i in range(1, 6): \n",
    "    print(i, \"*\", i, \"=\", i*i)"
   ]
  },
  {
   "cell_type": "code",
   "execution_count": 4,
   "metadata": {},
   "outputs": [
    {
     "name": "stdout",
     "output_type": "stream",
     "text": [
      "apple is red\n"
     ]
    }
   ],
   "source": [
    "a = \"apple\"\n",
    "b = \"red\"\n",
    "print(a + \" is \" + b)"
   ]
  },
  {
   "cell_type": "code",
   "execution_count": 5,
   "metadata": {
    "scrolled": false
   },
   "outputs": [
    {
     "name": "stdout",
     "output_type": "stream",
     "text": [
      "hello world\n",
      "helloworld\n"
     ]
    }
   ],
   "source": [
    "# print( x, y, z) 와 같이 출력 값이 여러 개일 경우 쉼표로 구분하여 작성\n",
    "# ( 쉼표 사용할 경우 공백 한개 추가)\n",
    "print(\"hello\", \"world\")\n",
    "print(\"hello\" + \"world\")"
   ]
  },
  {
   "cell_type": "code",
   "execution_count": 7,
   "metadata": {},
   "outputs": [
    {
     "name": "stdout",
     "output_type": "stream",
     "text": [
      "지민이는 숫자 69를  좋아합니다. 7 3\n",
      "69 7 3.141500\n",
      "69 7 3.14\n"
     ]
    }
   ],
   "source": [
    "a = 69 \n",
    "b = 7 \n",
    "c = 3.1415\n",
    "print(\"지민이는 숫자 %d를 좋아합니다. %d %d\" %(a,b,c))\n",
    "print(\"%d %d %f\" %(a,b,c))\n",
    "print(\"%d %d %.2f\" %(a,b,c))"
   ]
  },
  {
   "cell_type": "code",
   "execution_count": 10,
   "metadata": {},
   "outputs": [
    {
     "name": "stdout",
     "output_type": "stream",
     "text": [
      "반지름 입력 : 10\n",
      "반지름:  10.0 넓이:  314.0\n"
     ]
    }
   ],
   "source": [
    "# print() 함수로 원의 넓이 구하기 \n",
    "\n",
    "rad = float(input(\"반지름 입력 : \"))\n",
    "cir = rad * rad * 3.14 \n",
    "\n",
    "print(\"반지름: \", rad, \"넓이: \", cir)\n"
   ]
  },
  {
   "cell_type": "markdown",
   "metadata": {},
   "source": [
    "# 2. 파일 입출력"
   ]
  },
  {
   "cell_type": "markdown",
   "metadata": {},
   "source": [
    "- 파일 : 디스크와 같은 기억 장치에 어떤 정보들의 모임이 저장된 기억 장소 \n",
    "- 파일명 : 기억장소의 이름\n",
    "- 파일의 위치 : 파일 경로 ex) D:/data/test.txt / + 경로를 표시할 때 슬래시(/), 역슬래시(\\) 사용 \n",
    "- 파일의 종류 : 일반 파일, 디렉터리 파일, 특수 파일 \n",
    "\n",
    "- 파일 입출력 : 프로그램을 통해 파일을 열어 파일 안의 데이터를 읽고 쓰고 수정하는 등의 작업을 수행한 후 그 내용을 저장하는 것 "
   ]
  },
  {
   "cell_type": "code",
   "execution_count": null,
   "metadata": {},
   "outputs": [],
   "source": [
    "올리버쌤 = open( \"파일경로, 파일명\", \"입출력 형식 (r, w, a)\")\n",
    "올리버쌤.close()"
   ]
  },
  {
   "cell_type": "markdown",
   "metadata": {},
   "source": [
    "## 1) 텍스트 파일 열기와 읽기(r), 닫기 "
   ]
  },
  {
   "cell_type": "markdown",
   "metadata": {},
   "source": [
    "- 파일에 있는 데이터를 처리하기 위해서는 먼저 파일을 열고 사용 후엔 닫는다. "
   ]
  },
  {
   "cell_type": "code",
   "execution_count": 29,
   "metadata": {
    "scrolled": true
   },
   "outputs": [
    {
     "ename": "FileNotFoundError",
     "evalue": "[Errno 2] No such file or directory: '올리버쌤.txt'",
     "output_type": "error",
     "traceback": [
      "\u001b[1;31m---------------------------------------------------------------------------\u001b[0m",
      "\u001b[1;31mFileNotFoundError\u001b[0m                         Traceback (most recent call last)",
      "\u001b[1;32m<ipython-input-29-de7ed8666e25>\u001b[0m in \u001b[0;36m<module>\u001b[1;34m\u001b[0m\n\u001b[0;32m      1\u001b[0m \u001b[1;31m# 책제목 출력하기\u001b[0m\u001b[1;33m\u001b[0m\u001b[1;33m\u001b[0m\u001b[1;33m\u001b[0m\u001b[0m\n\u001b[0;32m      2\u001b[0m \u001b[1;33m\u001b[0m\u001b[0m\n\u001b[1;32m----> 3\u001b[1;33m \u001b[0m올리버\u001b[0m \u001b[1;33m=\u001b[0m \u001b[0mopen\u001b[0m\u001b[1;33m(\u001b[0m\u001b[1;34m\"올리버쌤.txt\"\u001b[0m\u001b[1;33m,\u001b[0m \u001b[1;34m\"r\"\u001b[0m\u001b[1;33m)\u001b[0m\u001b[1;33m\u001b[0m\u001b[1;33m\u001b[0m\u001b[0m\n\u001b[0m\u001b[0;32m      4\u001b[0m \u001b[0ma\u001b[0m \u001b[1;33m=\u001b[0m \u001b[0m올리버\u001b[0m\u001b[1;33m.\u001b[0m\u001b[0mread\u001b[0m\u001b[1;33m(\u001b[0m\u001b[1;33m)\u001b[0m\u001b[1;33m\u001b[0m\u001b[1;33m\u001b[0m\u001b[0m\n\u001b[0;32m      5\u001b[0m \u001b[0mprint\u001b[0m\u001b[1;33m(\u001b[0m\u001b[0ma\u001b[0m\u001b[1;33m)\u001b[0m\u001b[1;33m\u001b[0m\u001b[1;33m\u001b[0m\u001b[0m\n",
      "\u001b[1;31mFileNotFoundError\u001b[0m: [Errno 2] No such file or directory: '올리버쌤.txt'"
     ]
    }
   ],
   "source": [
    "# 책제목 출력하기 \n",
    "\n",
    "올리버 = open(\"올리버쌤.txt\", \"r\")\n",
    "a = 올리버.read()\n",
    "print(a)\n",
    "올리버.close()"
   ]
  },
  {
   "cell_type": "code",
   "execution_count": null,
   "metadata": {},
   "outputs": [],
   "source": [
    "# 최고 점수 출력 프로그램 \n",
    "a = 0 \n",
    "점수표 = open(\"점수.txt\", \"r\")\n",
    "for in 점수표: \n",
    "    if i in 점수표: \n",
    "        if float(i)> a: \n",
    "            a = float(i)\n",
    "점수표.close()\n",
    "print(a)"
   ]
  },
  {
   "cell_type": "code",
   "execution_count": null,
   "metadata": {},
   "outputs": [],
   "source": [
    "# 책 제목 출력하기 - read()와 readline()의 차이 \n",
    "f = open(\"과일.txt\", \"r\")\n",
    "f.read() \n",
    "f.readline() "
   ]
  },
  {
   "cell_type": "markdown",
   "metadata": {},
   "source": [
    "- read() : 파일 내 텍스트를 하나의 문자열로 반환\n",
    "- readlines() : 파일 내 텍스트에서 각 줄을 element 로 하는 리스트로 반환\n",
    "- 실제 코딩에서는 각 줄을 분석하여 처리하는 경우가 더 흔하기 때문에 readlines() 를 활용\n",
    "- 또한 텍스트의 양이 많을 때 불필요하게 전체를 다 반환하는 read() 보다는 줄마다 필요한 정보를 처리할 수 있는 readlines() 를 더 선호"
   ]
  },
  {
   "cell_type": "markdown",
   "metadata": {},
   "source": [
    "## 2) 텍스트 파일 쓰기 ( w ) "
   ]
  },
  {
   "cell_type": "code",
   "execution_count": 3,
   "metadata": {},
   "outputs": [],
   "source": [
    "hello = open(\"올리버.txt\", \"w\")\n",
    "hello.write(\"안녕하세요 \\n\")\n",
    "hello.write(\"안녕하세요 올리버쌤입니다~ \")\n",
    "hello.close() "
   ]
  },
  {
   "cell_type": "markdown",
   "metadata": {},
   "source": [
    "## 3) 텍스트 파일에 문자열 추가하기 ( a ) "
   ]
  },
  {
   "cell_type": "code",
   "execution_count": 2,
   "metadata": {},
   "outputs": [],
   "source": [
    "hello = open(\"올리버.txt\", \"a\")\n",
    "hello.write(\"와 ~ 저땐 이뻣어요  \")\n",
    "hello.close() "
   ]
  },
  {
   "cell_type": "code",
   "execution_count": null,
   "metadata": {},
   "outputs": [],
   "source": [
    "# 하루 시급이 만원일 때, 일주일 작업시간이 다음과 같다면, \n",
    "# 일주일 평균 작업 시간과 일주일 급여가 얼마인지 계산하여 \n",
    "# 파일로 출력하는 프로그램을 작성하시오. \n",
    "time = [ 5, 8, 10, 4, 6, 4, 4 ]"
   ]
  },
  {
   "cell_type": "code",
   "execution_count": 43,
   "metadata": {},
   "outputs": [],
   "source": [
    "time = [ 5, 9, 10, 4, 6, 4, 4 ]\n",
    "pay = 10000\n",
    "w_time = 0 \n",
    "for i in time: \n",
    "    w_time += i \n",
    "t_pay = pay * w_time \n",
    "avr = w_time / len(time)\n",
    "f = open(\"result.txt\", \"w\")\n",
    "f.write(\"작업시간 : \")\n",
    "f.writelines(str(time) + \"시간 \\n\")\n",
    "f.write(\"평균 작업시간 : %.2f \\n\" %avr)\n",
    "f.write(\"총급여: \" + str(t_pay) + \"원 \")\n",
    "f.close() "
   ]
  },
  {
   "cell_type": "code",
   "execution_count": 44,
   "metadata": {
    "scrolled": false
   },
   "outputs": [
    {
     "name": "stdout",
     "output_type": "stream",
     "text": [
      "작업시간 : [5, 9, 10, 4, 6, 4, 4]시간 \n",
      "평균 작업시간 : 6.00 \n",
      "총급여: 420000원 \n"
     ]
    }
   ],
   "source": [
    "result = open(\"result.txt\", \"r\")\n",
    "a = result.read()\n",
    "print(a)\n",
    "result.close()"
   ]
  },
  {
   "cell_type": "markdown",
   "metadata": {},
   "source": [
    "- write() : 파일 내 텍스트를 하나의 문자열로 기록 \n",
    "- writelines() : 파일 내 텍스트에서 각 줄을 element 로 하는 리스트로 반환하여 연속으로 파일에 기록.  "
   ]
  },
  {
   "cell_type": "markdown",
   "metadata": {},
   "source": [
    "# 내가 가지고 있는 책 제목 정리하기 "
   ]
  },
  {
   "cell_type": "code",
   "execution_count": 1,
   "metadata": {},
   "outputs": [],
   "source": [
    "f = open(\"책목록.txt\", \"w\")\n",
    "f.write(\"왕코미네 탕후루 \\n\")\n",
    "f.write(\"왕가 탕후루 \\n\")\n",
    "f.write(\"블랙 사파이어 \\n\")\n",
    "f.write(\"성진이 뒷목  \\n\")\n",
    "f.close()"
   ]
  },
  {
   "cell_type": "code",
   "execution_count": 2,
   "metadata": {},
   "outputs": [
    {
     "name": "stdout",
     "output_type": "stream",
     "text": [
      "['왕코미네 탕후루 \\n', '왕가 탕후루 \\n', '블랙 사파이어 \\n', '성진이 뒷목  \\n']\n"
     ]
    }
   ],
   "source": [
    "책목록 = open(\"책목록.txt\", \"r\")\n",
    "책배열=[]\n",
    "for a in 책목록:\n",
    "     책배열.append(a)\n",
    "print(책배열)"
   ]
  },
  {
   "cell_type": "code",
   "execution_count": 3,
   "metadata": {},
   "outputs": [
    {
     "name": "stdout",
     "output_type": "stream",
     "text": [
      "['블랙 사파이어 \\n', '성진이 뒷목  \\n', '왕가 탕후루 \\n', '왕코미네 탕후루 \\n']\n"
     ]
    }
   ],
   "source": [
    "책배열.sort()\n",
    "print(책배열)\n",
    "책목록.close()"
   ]
  },
  {
   "cell_type": "code",
   "execution_count": 4,
   "metadata": {},
   "outputs": [],
   "source": [
    "정렬=open(\"정렬.txt\", \"w\")\n",
    "for b in range(len(책배열)):\n",
    "     정렬.write(책배열[b])\n",
    "정렬.close()"
   ]
  },
  {
   "cell_type": "markdown",
   "metadata": {},
   "source": [
    "1. 텍스트 파일(책 목록.txt) 에서 책제목을 읽어 배열에 저장해보자"
   ]
  },
  {
   "cell_type": "code",
   "execution_count": 4,
   "metadata": {
    "collapsed": true
   },
   "outputs": [
    {
     "ename": "FileNotFoundError",
     "evalue": "[Errno 2] No such file or directory: ' '",
     "output_type": "error",
     "traceback": [
      "\u001b[1;31m---------------------------------------------------------------------------\u001b[0m",
      "\u001b[1;31mFileNotFoundError\u001b[0m                         Traceback (most recent call last)",
      "\u001b[1;32m<ipython-input-4-20438cb087e5>\u001b[0m in \u001b[0;36m<module>\u001b[1;34m\u001b[0m\n\u001b[1;32m----> 1\u001b[1;33m \u001b[0mf\u001b[0m \u001b[1;33m=\u001b[0m \u001b[0mopen\u001b[0m\u001b[1;33m(\u001b[0m \u001b[1;34m\" \"\u001b[0m\u001b[1;33m,\u001b[0m \u001b[1;33m)\u001b[0m           \u001b[1;31m# 읽기 형식으로 파일 열기\u001b[0m\u001b[1;33m\u001b[0m\u001b[1;33m\u001b[0m\u001b[0m\n\u001b[0m\u001b[0;32m      2\u001b[0m \u001b[0m책배열\u001b[0m\u001b[1;33m=\u001b[0m\u001b[1;33m[\u001b[0m \u001b[1;33m]\u001b[0m\u001b[1;33m\u001b[0m\u001b[1;33m\u001b[0m\u001b[0m\n\u001b[0;32m      3\u001b[0m \u001b[1;32mfor\u001b[0m \u001b[0ma\u001b[0m \u001b[1;32min\u001b[0m \u001b[0m책목록\u001b[0m\u001b[1;33m:\u001b[0m\u001b[1;33m\u001b[0m\u001b[1;33m\u001b[0m\u001b[0m\n\u001b[0;32m      4\u001b[0m     \u001b[0m책배열\u001b[0m\u001b[1;33m.\u001b[0m\u001b[0mappend\u001b[0m\u001b[1;33m(\u001b[0m\u001b[0ma\u001b[0m\u001b[1;33m)\u001b[0m\u001b[1;33m\u001b[0m\u001b[1;33m\u001b[0m\u001b[0m\n",
      "\u001b[1;31mFileNotFoundError\u001b[0m: [Errno 2] No such file or directory: ' '"
     ]
    }
   ],
   "source": [
    "    # 읽기 형식으로 파일 열기\n",
    "책배열=[ ]                  \n",
    "for a in 책목록:\n",
    "    책배열.append(a) "
   ]
  },
  {
   "cell_type": "markdown",
   "metadata": {},
   "source": [
    "2. 배열에 저장된 데이터를 정렬해보자 "
   ]
  },
  {
   "cell_type": "code",
   "execution_count": null,
   "metadata": {},
   "outputs": [],
   "source": [
    "    # 배열 정렬하기\n",
    "print(책배열)\n",
    "책목록.close() # 파일 닫기"
   ]
  },
  {
   "cell_type": "markdown",
   "metadata": {},
   "source": [
    "3. 정렬한 데이터를 텍스트 파일( 정렬.txt) 에 저장해보자 "
   ]
  },
  {
   "cell_type": "code",
   "execution_count": null,
   "metadata": {},
   "outputs": [],
   "source": [
    "     # 쓰기 형식으로 파일 열기\n",
    "for b in range(len(책배열)): # 배열에 저장된 데이터 수만큼 반복하기\n",
    "    정렬.write(책배열[b]) # 텍스트 파일에 배열의 데이터 저장하기\n",
    "정렬.close()"
   ]
  },
  {
   "cell_type": "markdown",
   "metadata": {},
   "source": [
    "## split() 함수 (문자열 메서드)\n",
    "- 주어진 구분자에 따라 문자열을 여러 부분으로 나누는 데 사용됩니다. 이 함수의 기본 동작은 공백을 기준으로 문자열을 나누는 것"
   ]
  },
  {
   "cell_type": "code",
   "execution_count": 5,
   "metadata": {},
   "outputs": [
    {
     "name": "stdout",
     "output_type": "stream",
     "text": [
      "['학년=3학년', '반=A반', '번호=20번']\n"
     ]
    }
   ],
   "source": [
    "a=\"학년=3학년&반=A반&번호=20번\"\n",
    "구분 = a.split('&')\n",
    "print(구분)"
   ]
  },
  {
   "cell_type": "code",
   "execution_count": 6,
   "metadata": {},
   "outputs": [
    {
     "name": "stdout",
     "output_type": "stream",
     "text": [
      "['computer', 'science', 'is', 'no', 'more', 'about', 'computer']\n"
     ]
    }
   ],
   "source": [
    "b=\"computer science is no more about computer\"\n",
    "구분=b.split()\n",
    "print(구분)"
   ]
  },
  {
   "cell_type": "markdown",
   "metadata": {},
   "source": [
    "#### 예제 ) 텍스트 파일 ‘문서.txt’에 단어들이 있다. 이 문서에서 ‘computer’라는 단어가 얼마나 포함되어 있는지 확인하는 프로그램을 작성해 보자."
   ]
  },
  {
   "cell_type": "markdown",
   "metadata": {},
   "source": [
    "[문서.txt]\n",
    "computer computew compuwer computer computgr computnr computor komputer computer computor computer competer"
   ]
  },
  {
   "cell_type": "code",
   "execution_count": 7,
   "metadata": {},
   "outputs": [],
   "source": [
    "f = open(\"문서.txt\", \"w\")\n",
    "f.write(\"computer computew compuwer computer computgr computnr computor komputer computer computor computer competer\")\n",
    "f.close() "
   ]
  },
  {
   "cell_type": "code",
   "execution_count": 9,
   "metadata": {
    "collapsed": true
   },
   "outputs": [
    {
     "name": "stdout",
     "output_type": "stream",
     "text": [
      "['computer computew compuwer computer computgr computnr computor komputer computer computor computer competer']\n",
      "computer computew compuwer computer computgr computnr computor komputer computer computor computer competer\n"
     ]
    }
   ],
   "source": [
    "f = open( \"문서.txt\", \"r\")\n",
    "lists = [ ]\n",
    "for i in f: \n",
    "    lists.append(i)\n",
    "print(lists)\n",
    "f.close()\n",
    "print(lists[0])"
   ]
  },
  {
   "cell_type": "code",
   "execution_count": 10,
   "metadata": {
    "collapsed": true
   },
   "outputs": [
    {
     "name": "stdout",
     "output_type": "stream",
     "text": [
      "['computer', 'computew', 'compuwer', 'computer', 'computgr', 'computnr', 'computor', 'komputer', 'computer', 'computor', 'computer', 'competer']\n"
     ]
    }
   ],
   "source": [
    "a = lists[0].split()\n",
    "print(a)"
   ]
  },
  {
   "cell_type": "code",
   "execution_count": 11,
   "metadata": {},
   "outputs": [
    {
     "name": "stdout",
     "output_type": "stream",
     "text": [
      "4\n"
     ]
    }
   ],
   "source": [
    "count = 0 \n",
    "for i in a: \n",
    "    if i == 'computer': \n",
    "        count = count + 1 \n",
    "print(count)"
   ]
  }
 ],
 "metadata": {
  "kernelspec": {
   "display_name": "Python 3",
   "language": "python",
   "name": "python3"
  },
  "language_info": {
   "codemirror_mode": {
    "name": "ipython",
    "version": 3
   },
   "file_extension": ".py",
   "mimetype": "text/x-python",
   "name": "python",
   "nbconvert_exporter": "python",
   "pygments_lexer": "ipython3",
   "version": "3.8.3"
  }
 },
 "nbformat": 4,
 "nbformat_minor": 5
}
