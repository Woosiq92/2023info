{
 "cells": [
  {
   "cell_type": "markdown",
   "metadata": {},
   "source": [
    "\n",
    "# 9.효율적인 프로그래밍\n",
    "- 프로그램에서 처리해야 할 데이터의 양이 많아지면서 알고리즘의 효율성이 더욱 중요해지고 있다. \n",
    "- 효율적인 알고리즘이란 실행시간이 짧으면서 기억장소를 적게 사용하는 알고리즘이다.\n"
   ]
  },
  {
   "cell_type": "markdown",
   "metadata": {},
   "source": [
    "## 1) 프로그램의 효율성을 분석하는 방법 "
   ]
  },
  {
   "cell_type": "markdown",
   "metadata": {},
   "source": [
    "1. 기억 장소 사용량 분석 \n",
    " - 프로그램의 효율성을 판단하기 위해서는 프로그램을 실행하고 마칠 때까지 필요한 기억장소의 총 사용량을 분석해야 한다. \n",
    " - 변수 선언도 자료형을 고려하여 효율적으로 해야한다. \n",
    "    \n",
    "   "
   ]
  },
  {
   "cell_type": "markdown",
   "metadata": {},
   "source": [
    "2. 수행 시간 효율성 분석 \n",
    " -  수행 횟수를 측정한다. 같은 알고리즘이라도 컴퓨터 환경이 다르면 프로그램의 절대적인 수행시간이 다르기 때문에 프로그램에서 처리하는 작업의 횟수를 고려한다. "
   ]
  },
  {
   "cell_type": "markdown",
   "metadata": {},
   "source": [
    "3. 알고리즘 복잡도 분석 방법 \n",
    "  - 공간 복잡도 : 기억 장소 사용량 분석 \n",
    "  - 시간 복잡도 : 수행시간 효율석 분석 "
   ]
  },
  {
   "cell_type": "markdown",
   "metadata": {},
   "source": [
    "## 2. 탐색 - 데이터를 빠르게 찾는 방법 "
   ]
  },
  {
   "cell_type": "markdown",
   "metadata": {},
   "source": [
    "1. 순차 탐색 \n",
    "- 원하는 데이터를 순차적으로 비교하면서 탐색 "
   ]
  },
  {
   "cell_type": "markdown",
   "metadata": {},
   "source": [
    "2. 이진 탐색 \n",
    "- 중앙 데이터(mid)를 기준으로 원하는 데이터의 방향을 판단하여 탐색하는 방법 \n",
    "- 탐색할 데이터를 반으로 줄여 수행 속도가 빠르지만 탐색 전 데이터가 정렬되어 있어야 한다. "
   ]
  },
  {
   "cell_type": "code",
   "execution_count": 1,
   "metadata": {},
   "outputs": [
    {
     "name": "stdout",
     "output_type": "stream",
     "text": [
      "단어: 와\n",
      "와 추가\n",
      "단어: 맛탱이보소\n",
      "맛탱이보소 추가\n",
      "단어: sex\n",
      "sex 추가\n",
      "단어: 영한쌤\n",
      "영한쌤 추가\n",
      "단어: 짭종철\n",
      "짭종철 추가\n",
      "단어: 돌싱\n",
      "돌싱 추가\n",
      "단어: 나는솔로\n",
      "나는솔로 추가\n",
      "단어: 양똥\n",
      "양똥 추가\n",
      "['sex', '나는솔로', '돌싱', '맛탱이보소', '양똥', '영한쌤', '와', '짭종철']\n",
      "찾는 단어: sex\n",
      " 순차 탐색 횟수:  1\n",
      " 이진 탐색 횟수:  3\n"
     ]
    }
   ],
   "source": [
    "a = [ ]               # 단어를 입력받기 위한 배열을 선언한다.\n",
    "for b in range(8):  # 8개의 단어를 입력받는다.\n",
    "    n = input(\"단어: \")\n",
    "    a.append(n)     # 입력받은 단어를 배열에 추가한다.\n",
    "    print(n, \"추가\")\n",
    "a.sort()            # 단어 입력이 끝나면 배열을 정렬한다.\n",
    "print(a)\n",
    "\n",
    "def 순차(data, search):\n",
    "    i=0             # 탐색할 배열의 초기 인덱스(1번째 단어)\n",
    "    while i<=7:    # 탐색할 배열의 마지막 인덱스까지 반복한다. (8번째 단어)\n",
    "        if data[i]==search: # 배열의 단어와 탐색하는 단어를 비교한다.\n",
    "             return i+1 # 만약 같다면 인덱스 번호에 1을 더해서 돌려준다.\n",
    "        else:\n",
    "             i+=1        # 같지 않다면 다음 단어와 비교한다.\n",
    "def 이진(data, search):\n",
    "    left = 0                  # 탐색할 배열의 초기 인덱스(1번째 단어)\n",
    "    right = 7                 # 탐색할 배열의 마지막 인덱스(8번째 단어)\n",
    "    count = 0                 # 탐색 횟수\n",
    "    mid = int(( left + right )/2) # 탐색할 배열의 중앙 인덱스\n",
    "    while left <= right :\n",
    "        if data[mid] == search: # 배열의 중심 단어와 탐색하는 단어를 비교한다.\n",
    "            return count+1      # 만약 같다면 탐색 횟수에 1을 더해서 돌려준다.\n",
    "\n",
    "        elif data[mid] > search: # 배열의 중앙 단어가 탐색하는 단어보다 오른쪽에 있다면\n",
    "            count += 1\n",
    "            right = mid-1          # 배열 마지막 인덱스를 재설정한다.\n",
    "        else:                     # 배열의 중앙 단어가 탐색하는 단어보다 왼쪽에 있다면\n",
    "            count += 1\n",
    "            left = mid+1               # 배열 초기 인덱스를 재설정한다.\n",
    "        mid = int(( left+ right)/2)\n",
    "            \n",
    "\n",
    "\n",
    "b=input(\"찾는 단어: \")\n",
    "print(\" 순차 탐색 횟수: \", 순차(a,b))\n",
    "print(\" 이진 탐색 횟수: \" , 이진(a,b))"
   ]
  },
  {
   "cell_type": "code",
   "execution_count": 1,
   "metadata": {},
   "outputs": [],
   "source": [
    "import turtle, random\n",
    "t=turtle.Turtle()\n",
    "s=t.getscreen()\n",
    "t.up() # 언덕과 땅을 그림\n",
    "t.goto(-300, 100)\n",
    "t.down()\n",
    "t.fd(100)\n",
    "t.rt(90)\n",
    "t.fd(100)\n",
    "t.lt(90)\n",
    "t.fd(500) \n",
    "target=random.randint(0, 250) # 목표지점을 그림\n",
    "t.pensize(5)\n",
    "t.color(\"red\")\n",
    "t.up()\n",
    "t.goto(target-25, 2)\n",
    "t.down()\n",
    "t.goto(target+25, 2) \n",
    "t.up() \n",
    "t.color(0, 0, 0) # 시작 지점으로 이동\n",
    "t.goto(-220, 110)\n",
    "t.setheading(10) \n",
    "power=5 # 전진하는 힘의 기본값\n",
    "def power_up(): # 힘 증가 함수\n",
    "     global power\n",
    "     t.dot(power, \"white\")\n",
    "     power+=2\n",
    "     t.dot(power, \"red\")\n",
    "\n",
    "def power_down(): # 힘 감소 함수\n",
    "     global power\n",
    "     t.dot(power, \"white\")\n",
    "     power-=2\n",
    "     t.dot(power, \"red\")\n",
    "def kick(): # 발사 함수\n",
    " global power\n",
    " while t.ycor() > 0: # y좌표 0까지 반복\n",
    "     t.fd(power)\n",
    "     t.right(3)\n",
    " t.dot(3,\"black\")\n",
    " dis=t.distance(target, 0) \n",
    " # 목표와 거북이 사이의 거리\n",
    " if dis < 25: \n",
    " # 거리 차이가 목표지점 안쪽이면 명중\n",
    "     t.sety(10)\n",
    "     t.write(\"명중!\")\n",
    "     t.color(0, 0, 0) # 시작 지점으로 이동\n",
    "     t.goto(-220, 110)\n",
    "     t.setheading(10)\n",
    "s.onkey(power_up, \"Up\")\n",
    "s.onkey(power_down, \"Down\")\n",
    "s.onkey(kick, \"space\")\n",
    "s.listen()\n"
   ]
  }
 ],
 "metadata": {
  "kernelspec": {
   "display_name": "Python 3",
   "language": "python",
   "name": "python3"
  },
  "language_info": {
   "codemirror_mode": {
    "name": "ipython",
    "version": 3
   },
   "file_extension": ".py",
   "mimetype": "text/x-python",
   "name": "python",
   "nbconvert_exporter": "python",
   "pygments_lexer": "ipython3",
   "version": "3.8.3"
  }
 },
 "nbformat": 4,
 "nbformat_minor": 5
}
