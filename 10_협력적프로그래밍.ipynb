{
 "cells": [
  {
   "cell_type": "markdown",
   "metadata": {},
   "source": [
    "# 우리반 관심사를 알아보는 프로그램을 제작해보자 "
   ]
  },
  {
   "cell_type": "markdown",
   "metadata": {},
   "source": [
    "1. 문제 이해와 분석하기 \n",
    "2. 자료 수집하기 \n",
    "3. 변수 및 배열 선언하기 \n",
    "4. 입출력 함수를 이용하여 배열에 저장하기 \n",
    "5. 배열에 각 관심사의 점수 합계를 저장하고 출력하기 \n",
    "6. 다양한 형태로 점수 합계를 보여주기 \n",
    "7. 프로그램 구현하고 실행하기 "
   ]
  },
  {
   "cell_type": "markdown",
   "metadata": {},
   "source": [
    "## 1. 문제 이해와 분석하기 \n",
    "1. 우리반 친구들의 관심사를 조사하고, 관련 자료를 수집한다. \n",
    "- 공부, 친구, 이성, 외모, 기타로 분류하고, 각항목당 0부터 3점 까지 점수를 부여한다. \n",
    "- 수집한 자료는 표 형태로 구조화 한다. \n",
    "\n",
    "2. 수집한 자료를 이용하여 관심사를 다양한 형태로 보여주는 프로그램을 작성한다. \n",
    "- 파이선의 입출력 함수를 이용하여 수집한 자료를 입력한다. \n",
    "- 파이선의 거북이를 이용하여 막대 그래프나 거품형 그래프로 표현한다. "
   ]
  },
  {
   "cell_type": "markdown",
   "metadata": {},
   "source": [
    "## 2. 자료 수집하기 "
   ]
  },
  {
   "cell_type": "markdown",
   "metadata": {},
   "source": [
    "https://docs.google.com/spreadsheets/d/1JbeQxixf-bM7qTblso_YY2dYMylTfM8PVmM_vSrIiug/edit#gid=0"
   ]
  },
  {
   "cell_type": "markdown",
   "metadata": {},
   "source": [
    "## 3. 변수 및 배열 선언하기 "
   ]
  },
  {
   "cell_type": "code",
   "execution_count": 17,
   "metadata": {
    "scrolled": true
   },
   "outputs": [],
   "source": [
    "a=[ ] # 텍스트 파일의 모든 데이터를 저장하는 배열이다.\n",
    "c=[\"\",\"\",\"\",\"\",\"\"] # 공백으로 구분된 문자열을 저장하는 배열이다.\n",
    "s=[0, 0, 0, 0, 0] # 각 관심사의 점수 합계를 저장하는 배열이다.\n",
    "total=0           # 모든 관심사 점수의 총합계이다"
   ]
  },
  {
   "cell_type": "markdown",
   "metadata": {},
   "source": [
    "## 4. 입출력 함수를 이용하여 배열에 저장하기 "
   ]
  },
  {
   "cell_type": "code",
   "execution_count": 20,
   "metadata": {},
   "outputs": [
    {
     "name": "stdout",
     "output_type": "stream",
     "text": [
      "[['공부', '1', '1', '1', '1', '1', '1', '1', '1', '1', '1', '1', '1', '1', '1', '1', '1', '1', '1', '1'], ['친구', '1', '1', '1', '1', '1', '1', '1', '1', '1', '1', '1', '1', '1', '1', '1', '1', '1', '1', '1'], ['이성', '1', '1', '1', '1', '1', '1', '1', '1', '1', '1', '1', '1', '1', '1', '1', '1', '1', '1', '1'], ['외모', '1', '1', '1', '1', '1', '1', '1', '1', '1', '1', '1', '1', '1', '1', '1', '1', '1', '1', '1'], ['기타', '1', '1', '1', '1', '1', '1', '1', '1', '1', '1', '1', '1', '1', '1', '1', '1', '1', '1', '1']]\n"
     ]
    }
   ],
   "source": [
    "f=open(\"class5.txt\", encoding='utf-8') # 기본적으로 읽기 모드('r')로 설정\n",
    "for i in f.readlines( ): # 한 줄씩 읽어서 a 배열에 저장한다.\n",
    "     a.append(i)\n",
    "for i in range(0,5): # 공백으로 구분된 점수들을 c 배열에 저장한다.\n",
    "     c [ i ]=a[ i ].split( ) # split( ) 명령어는 괄호 안의 값을 분리한다.\n",
    "\n",
    "print(c)"
   ]
  },
  {
   "cell_type": "markdown",
   "metadata": {},
   "source": [
    "## 5. 배열에 각 관심사의 점수 합계를 저장하고 출력하기 "
   ]
  },
  {
   "cell_type": "code",
   "execution_count": 22,
   "metadata": {},
   "outputs": [
    {
     "name": "stdout",
     "output_type": "stream",
     "text": [
      "[38, 38, 38, 38, 38]\n"
     ]
    }
   ],
   "source": [
    "for i in range(0,5): # 5개의 관심사 항목만큼 반복한다.\n",
    "     for j in range(1,21): # 19명 학생의 점수 자료만큼 반복한다.\n",
    "            s[i]+=int(c[i][j]) # 정수형으로 변환 후 s 배열에 반복 합산한다.\n",
    "\n",
    "print(s)"
   ]
  },
  {
   "cell_type": "code",
   "execution_count": 26,
   "metadata": {},
   "outputs": [
    {
     "name": "stdout",
     "output_type": "stream",
     "text": [
      "공부 = 38점\n",
      "친구 = 38점\n",
      "이성 = 38점\n",
      "외모 = 38점\n",
      "기타 = 38점\n",
      "합계 = 190\n"
     ]
    }
   ],
   "source": [
    "for i in range(0,5): # 5개의 관심사 항목만큼 반복한다.\n",
    "    total+=s[i] # 반복하면서 총 점수를 합산한다.\n",
    "    print(c[i][0]+ \" = \" +str(s[i])+ \"점\" )  # c 배열의 관심사 항목과 s 배열의 점수를 출력한다.\n",
    "print(\"합계 = \" +str(total)) # 총합산 점수를 출력한다."
   ]
  },
  {
   "cell_type": "markdown",
   "metadata": {},
   "source": [
    "## 6. 다양한 형태로 점수 합계를 보여주기 "
   ]
  },
  {
   "cell_type": "code",
   "execution_count": 1,
   "metadata": {},
   "outputs": [
    {
     "ename": "NameError",
     "evalue": "name 'c' is not defined",
     "output_type": "error",
     "traceback": [
      "\u001b[1;31m---------------------------------------------------------------------------\u001b[0m",
      "\u001b[1;31mNameError\u001b[0m                                 Traceback (most recent call last)",
      "Cell \u001b[1;32mIn[1], line 21\u001b[0m\n\u001b[0;32m     19\u001b[0m \u001b[38;5;28;01mfor\u001b[39;00m i \u001b[38;5;129;01min\u001b[39;00m \u001b[38;5;28mrange\u001b[39m(\u001b[38;5;241m0\u001b[39m,\u001b[38;5;241m5\u001b[39m):\n\u001b[0;32m     20\u001b[0m     t\u001b[38;5;241m.\u001b[39mcolor(pen[i]) \u001b[38;5;66;03m# pen 배열의 색을 저장한다.\u001b[39;00m\n\u001b[1;32m---> 21\u001b[0m     category\u001b[38;5;241m=\u001b[39mc[i][\u001b[38;5;241m0\u001b[39m] \u001b[38;5;66;03m# c 배열의 관심사 항목을 저장한다.\u001b[39;00m\n\u001b[0;32m     22\u001b[0m     score\u001b[38;5;241m=\u001b[39m\u001b[38;5;28mint\u001b[39m(s[i]) \u001b[38;5;66;03m# s 배열의 점수를 저장한다.\u001b[39;00m\n\u001b[0;32m     23\u001b[0m     bar(category, score)\n",
      "\u001b[1;31mNameError\u001b[0m: name 'c' is not defined"
     ]
    }
   ],
   "source": [
    "# 막대 그래프 작성하기 \n",
    "import turtle\n",
    "t=turtle.Turtle()\n",
    "t.shape('turtle')\n",
    "pen=['blue', 'red', 'orange', 'green', 'purple']\n",
    "t.pensize(2)\n",
    "def bar(category, score): # bar 함수는 관심사 항목과 점수를 전달받는다.\n",
    "    t.begin_fill()\n",
    "    t.left(90)\n",
    "    t.forward(score) # 전달받은 점수를 막대의 높이로 사용한다.\n",
    "    t.write(category+ '' +str(score)+'점') # 점수를 표시한다.\n",
    "    t.right(90)\n",
    "    t.forward(50)\n",
    "    t.right(90)\n",
    "    t.forward(score)\n",
    "    t.left(90)\n",
    "    t.end_fill()\n",
    "    t.forward(10)\n",
    "for i in range(0,5):\n",
    "    t.color(pen[i]) # pen 배열의 색을 저장한다.\n",
    "    category=c[i][0] # c 배열의 관심사 항목을 저장한다.\n",
    "    score=int(s[i]) # s 배열의 점수를 저장한다.\n",
    "    bar(category, score) # 막대그래프 함수를 호출한다"
   ]
  },
  {
   "cell_type": "code",
   "execution_count": 3,
   "metadata": {},
   "outputs": [
    {
     "ename": "NameError",
     "evalue": "name 'c' is not defined",
     "output_type": "error",
     "traceback": [
      "\u001b[1;31m---------------------------------------------------------------------------\u001b[0m",
      "\u001b[1;31mNameError\u001b[0m                                 Traceback (most recent call last)",
      "Cell \u001b[1;32mIn[3], line 20\u001b[0m\n\u001b[0;32m     18\u001b[0m \u001b[38;5;28;01mfor\u001b[39;00m i \u001b[38;5;129;01min\u001b[39;00m \u001b[38;5;28mrange\u001b[39m(\u001b[38;5;241m0\u001b[39m,\u001b[38;5;241m5\u001b[39m):\n\u001b[0;32m     19\u001b[0m     t\u001b[38;5;241m.\u001b[39mcolor(pen[i])\n\u001b[1;32m---> 20\u001b[0m     category\u001b[38;5;241m=\u001b[39mc[i][\u001b[38;5;241m0\u001b[39m]\n\u001b[0;32m     21\u001b[0m     score\u001b[38;5;241m=\u001b[39m\u001b[38;5;28mint\u001b[39m(s[i])\n\u001b[0;32m     22\u001b[0m     bubble(category, score)\n",
      "\u001b[1;31mNameError\u001b[0m: name 'c' is not defined"
     ]
    }
   ],
   "source": [
    "# 거품형 그래프 작성하기 \n",
    "import turtle\n",
    "t=turtle.Turtle()\n",
    "t.shape('turtle')\n",
    "t.pensize(2)\n",
    "pen=['blue', 'red', 'orange', 'green', 'purple']\n",
    "def bubble(category, score): # bubble 함수는 관심사 항목과 점수를 전달받는다.\n",
    "    t.begin_fill()\n",
    "    t.circle(score) # 전달받은 점수를 반지름으로 사용한다.\n",
    "    t.end_fill()\n",
    "    t.color('black')\n",
    "    t.write(category+ '' +str(score)+'점')\n",
    "    t.penup()\n",
    "    t.forward(100) # 원을 그려 준 뒤 각도와 위치를 조정하여\n",
    "    t.right(70)  # 원이 겹치지 않도록 분산시킨다.\n",
    "    t.pendown()\n",
    "\n",
    "for i in range(0,5):\n",
    "    t.color(pen[i])\n",
    "    category=c[i][0]\n",
    "    score=int(s[i])\n",
    "    bubble(category, score)"
   ]
  },
  {
   "cell_type": "code",
   "execution_count": null,
   "metadata": {},
   "outputs": [],
   "source": [
    "## 끝 : 파이선으로 제작해보고 싶은 프로그램 생각해보기 "
   ]
  }
 ],
 "metadata": {
  "kernelspec": {
   "display_name": "Python 3",
   "language": "python",
   "name": "python3"
  },
  "language_info": {
   "codemirror_mode": {
    "name": "ipython",
    "version": 3
   },
   "file_extension": ".py",
   "mimetype": "text/x-python",
   "name": "python",
   "nbconvert_exporter": "python",
   "pygments_lexer": "ipython3",
   "version": "3.8.3"
  }
 },
 "nbformat": 4,
 "nbformat_minor": 5
}
